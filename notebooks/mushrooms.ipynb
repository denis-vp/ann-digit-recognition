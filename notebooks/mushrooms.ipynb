{
 "cells": [
  {
   "metadata": {},
   "cell_type": "markdown",
   "source": [
    "## Mushroom Dataset (Binary Classification)\n",
    "Binary Classification of mushrooms into edible and poisonous.  \n",
    "https://www.kaggle.com/datasets/prishasawhney/mushroom-dataset/code"
   ],
   "id": "4ba228c4a1012c06"
  },
  {
   "cell_type": "code",
   "id": "initial_id",
   "metadata": {
    "collapsed": true,
    "ExecuteTime": {
     "end_time": "2024-05-07T18:59:29.723264Z",
     "start_time": "2024-05-07T18:59:29.719575Z"
    }
   },
   "source": [
    "import pandas as pd\n",
    "\n",
    "from sklearn.preprocessing import StandardScaler\n",
    "from sklearn.model_selection import train_test_split\n",
    "\n",
    "from neural_network.functions.activation_functions import ReLU, Sigmoid\n",
    "from neural_network.functions.loss_functions import BCELoss\n",
    "\n",
    "from neural_network.neural_network import NeuralNetwork\n",
    "\n",
    "import matplotlib.pyplot as plt\n",
    "\n",
    "from tqdm.auto import tqdm"
   ],
   "outputs": [],
   "execution_count": 25
  },
  {
   "metadata": {},
   "cell_type": "markdown",
   "source": "## Step 1: Load the data",
   "id": "4db9aca33d004c89"
  },
  {
   "metadata": {
    "ExecuteTime": {
     "end_time": "2024-05-07T18:59:30.684253Z",
     "start_time": "2024-05-07T18:59:30.638670Z"
    }
   },
   "cell_type": "code",
   "source": [
    "# Create the dataframe and view it\n",
    "\n",
    "df = pd.read_csv('./../data/mushroom_cleaned.csv')"
   ],
   "id": "b0943a9dfa701f3a",
   "outputs": [],
   "execution_count": 26
  },
  {
   "metadata": {
    "ExecuteTime": {
     "end_time": "2024-05-07T18:59:31.010323Z",
     "start_time": "2024-05-07T18:59:31.001949Z"
    }
   },
   "cell_type": "code",
   "source": "df.head()",
   "id": "94500b99ab70cdca",
   "outputs": [
    {
     "data": {
      "text/plain": [
       "   cap-diameter  cap-shape  gill-attachment  gill-color  stem-height  \\\n",
       "0          1372          2                2          10     3.807467   \n",
       "1          1461          2                2          10     3.807467   \n",
       "2          1371          2                2          10     3.612496   \n",
       "3          1261          6                2          10     3.787572   \n",
       "4          1305          6                2          10     3.711971   \n",
       "\n",
       "   stem-width  stem-color    season  class  \n",
       "0        1545          11  1.804273      1  \n",
       "1        1557          11  1.804273      1  \n",
       "2        1566          11  1.804273      1  \n",
       "3        1566          11  1.804273      1  \n",
       "4        1464          11  0.943195      1  "
      ],
      "text/html": [
       "<div>\n",
       "<style scoped>\n",
       "    .dataframe tbody tr th:only-of-type {\n",
       "        vertical-align: middle;\n",
       "    }\n",
       "\n",
       "    .dataframe tbody tr th {\n",
       "        vertical-align: top;\n",
       "    }\n",
       "\n",
       "    .dataframe thead th {\n",
       "        text-align: right;\n",
       "    }\n",
       "</style>\n",
       "<table border=\"1\" class=\"dataframe\">\n",
       "  <thead>\n",
       "    <tr style=\"text-align: right;\">\n",
       "      <th></th>\n",
       "      <th>cap-diameter</th>\n",
       "      <th>cap-shape</th>\n",
       "      <th>gill-attachment</th>\n",
       "      <th>gill-color</th>\n",
       "      <th>stem-height</th>\n",
       "      <th>stem-width</th>\n",
       "      <th>stem-color</th>\n",
       "      <th>season</th>\n",
       "      <th>class</th>\n",
       "    </tr>\n",
       "  </thead>\n",
       "  <tbody>\n",
       "    <tr>\n",
       "      <th>0</th>\n",
       "      <td>1372</td>\n",
       "      <td>2</td>\n",
       "      <td>2</td>\n",
       "      <td>10</td>\n",
       "      <td>3.807467</td>\n",
       "      <td>1545</td>\n",
       "      <td>11</td>\n",
       "      <td>1.804273</td>\n",
       "      <td>1</td>\n",
       "    </tr>\n",
       "    <tr>\n",
       "      <th>1</th>\n",
       "      <td>1461</td>\n",
       "      <td>2</td>\n",
       "      <td>2</td>\n",
       "      <td>10</td>\n",
       "      <td>3.807467</td>\n",
       "      <td>1557</td>\n",
       "      <td>11</td>\n",
       "      <td>1.804273</td>\n",
       "      <td>1</td>\n",
       "    </tr>\n",
       "    <tr>\n",
       "      <th>2</th>\n",
       "      <td>1371</td>\n",
       "      <td>2</td>\n",
       "      <td>2</td>\n",
       "      <td>10</td>\n",
       "      <td>3.612496</td>\n",
       "      <td>1566</td>\n",
       "      <td>11</td>\n",
       "      <td>1.804273</td>\n",
       "      <td>1</td>\n",
       "    </tr>\n",
       "    <tr>\n",
       "      <th>3</th>\n",
       "      <td>1261</td>\n",
       "      <td>6</td>\n",
       "      <td>2</td>\n",
       "      <td>10</td>\n",
       "      <td>3.787572</td>\n",
       "      <td>1566</td>\n",
       "      <td>11</td>\n",
       "      <td>1.804273</td>\n",
       "      <td>1</td>\n",
       "    </tr>\n",
       "    <tr>\n",
       "      <th>4</th>\n",
       "      <td>1305</td>\n",
       "      <td>6</td>\n",
       "      <td>2</td>\n",
       "      <td>10</td>\n",
       "      <td>3.711971</td>\n",
       "      <td>1464</td>\n",
       "      <td>11</td>\n",
       "      <td>0.943195</td>\n",
       "      <td>1</td>\n",
       "    </tr>\n",
       "  </tbody>\n",
       "</table>\n",
       "</div>"
      ]
     },
     "execution_count": 27,
     "metadata": {},
     "output_type": "execute_result"
    }
   ],
   "execution_count": 27
  },
  {
   "metadata": {
    "ExecuteTime": {
     "end_time": "2024-05-07T18:59:31.695129Z",
     "start_time": "2024-05-07T18:59:31.683942Z"
    }
   },
   "cell_type": "code",
   "source": "df.info()",
   "id": "42a2fc5fd3e36d96",
   "outputs": [
    {
     "name": "stdout",
     "output_type": "stream",
     "text": [
      "<class 'pandas.core.frame.DataFrame'>\n",
      "RangeIndex: 54035 entries, 0 to 54034\n",
      "Data columns (total 9 columns):\n",
      " #   Column           Non-Null Count  Dtype  \n",
      "---  ------           --------------  -----  \n",
      " 0   cap-diameter     54035 non-null  int64  \n",
      " 1   cap-shape        54035 non-null  int64  \n",
      " 2   gill-attachment  54035 non-null  int64  \n",
      " 3   gill-color       54035 non-null  int64  \n",
      " 4   stem-height      54035 non-null  float64\n",
      " 5   stem-width       54035 non-null  int64  \n",
      " 6   stem-color       54035 non-null  int64  \n",
      " 7   season           54035 non-null  float64\n",
      " 8   class            54035 non-null  int64  \n",
      "dtypes: float64(2), int64(7)\n",
      "memory usage: 3.7 MB\n"
     ]
    }
   ],
   "execution_count": 28
  },
  {
   "metadata": {},
   "cell_type": "markdown",
   "source": "## Step 2: Data Preprocessing",
   "id": "d69a2ba8d8f45aca"
  },
  {
   "metadata": {
    "ExecuteTime": {
     "end_time": "2024-05-07T18:59:32.653995Z",
     "start_time": "2024-05-07T18:59:32.647316Z"
    }
   },
   "cell_type": "code",
   "source": [
    "# Split the data into data and target\n",
    "data = df.drop('class', axis=1)\n",
    "target = df['class']\n",
    "\n",
    "# Convert to numpy arrays\n",
    "data = data.to_numpy()\n",
    "target = target.to_numpy()"
   ],
   "id": "6b5f7b8bb41b6876",
   "outputs": [],
   "execution_count": 29
  },
  {
   "metadata": {
    "ExecuteTime": {
     "end_time": "2024-05-07T18:59:33.001190Z",
     "start_time": "2024-05-07T18:59:32.992490Z"
    }
   },
   "cell_type": "code",
   "source": [
    "print('Data Shape:', data.shape)\n",
    "print('Target Shape:', target.shape)\n",
    "\n",
    "print('data[0]:', data[0])\n",
    "print('target[0]:', target[0])"
   ],
   "id": "10bb583c6a698074",
   "outputs": [
    {
     "name": "stdout",
     "output_type": "stream",
     "text": [
      "Data Shape: (54035, 8)\n",
      "Target Shape: (54035,)\n",
      "data[0]: [1372.            2.            2.           10.            3.80746675\n",
      " 1545.           11.            1.80427271]\n",
      "target[0]: 1\n"
     ]
    }
   ],
   "execution_count": 30
  },
  {
   "metadata": {
    "ExecuteTime": {
     "end_time": "2024-05-07T18:59:33.363426Z",
     "start_time": "2024-05-07T18:59:33.357186Z"
    }
   },
   "cell_type": "code",
   "source": [
    "# Check for missing values\n",
    "print('Missing values in data:', pd.isnull(data).sum().sum())\n",
    "print('Missing values in target:', pd.isnull(target).sum().sum())"
   ],
   "id": "1fee1b58dc9c7e92",
   "outputs": [
    {
     "name": "stdout",
     "output_type": "stream",
     "text": [
      "Missing values in data: 0\n",
      "Missing values in target: 0\n"
     ]
    }
   ],
   "execution_count": 31
  },
  {
   "metadata": {
    "ExecuteTime": {
     "end_time": "2024-05-07T18:59:33.911567Z",
     "start_time": "2024-05-07T18:59:33.896573Z"
    }
   },
   "cell_type": "code",
   "source": [
    "# Standardize the data\n",
    "scaler = StandardScaler().fit(data)\n",
    "data = scaler.transform(data)\n",
    "\n",
    "print('data[0]:', data[0])"
   ],
   "id": "ffada18c9f5af057",
   "outputs": [
    {
     "name": "stdout",
     "output_type": "stream",
     "text": [
      "data[0]: [ 2.23613935 -0.92586356 -0.06373657  0.83446694  4.68284504  0.63157015\n",
      "  0.79150827  2.78840159]\n"
     ]
    }
   ],
   "execution_count": 32
  },
  {
   "metadata": {
    "ExecuteTime": {
     "end_time": "2024-05-07T18:59:34.203750Z",
     "start_time": "2024-05-07T18:59:34.193224Z"
    }
   },
   "cell_type": "code",
   "source": [
    "# Split the data into training and testing sets\n",
    "X_train, X_test = train_test_split(data, test_size=0.2, random_state=42)\n",
    "y_train, y_test = train_test_split(target, test_size=0.2, random_state=42)"
   ],
   "id": "1ea05e3d021e8951",
   "outputs": [],
   "execution_count": 33
  },
  {
   "metadata": {},
   "cell_type": "markdown",
   "source": [
    "## Step 3: Create the Model\n",
    "The model will output a value between 0 and 1, which will classify the mushroom as edible or poisonous.  \n",
    "0 -- Edible  \n",
    "1 -- Poisonous"
   ],
   "id": "dbebb5fb631f8ad0"
  },
  {
   "metadata": {
    "ExecuteTime": {
     "end_time": "2024-05-07T18:59:35.016997Z",
     "start_time": "2024-05-07T18:59:35.013973Z"
    }
   },
   "cell_type": "code",
   "source": [
    "# Choose model hyperparameters\n",
    "layer_sizes = [data.shape[1], 16, 1]\n",
    "activations = [ReLU(), Sigmoid()]  # Sigmoid activation for binary classification\n",
    "loss_function = BCELoss()  # Binary Cross Entropy Loss for binary classification\n",
    "\n",
    "# Create the model\n",
    "model = NeuralNetwork(layer_sizes, activations, loss_function)"
   ],
   "id": "aff3f68eefacc1ca",
   "outputs": [],
   "execution_count": 34
  },
  {
   "metadata": {
    "ExecuteTime": {
     "end_time": "2024-05-07T18:59:35.510035Z",
     "start_time": "2024-05-07T18:59:35.506609Z"
    }
   },
   "cell_type": "code",
   "source": [
    "# Choose training hyperparameters\n",
    "learning_rate = 0.01\n",
    "regularization_rate = 0.01\n",
    "momentum = 0.9\n",
    "epochs = 100"
   ],
   "id": "aa6fb396d06265a4",
   "outputs": [],
   "execution_count": 35
  },
  {
   "metadata": {},
   "cell_type": "markdown",
   "source": "## Step 4: Train the Model",
   "id": "7b349d02abdd34de"
  },
  {
   "metadata": {
    "ExecuteTime": {
     "end_time": "2024-05-07T19:19:33.999967Z",
     "start_time": "2024-05-07T18:59:36.380425Z"
    }
   },
   "cell_type": "code",
   "source": [
    "# Store loss and accuracy for visualization\n",
    "train_loss, test_loss = [], []\n",
    "train_accuracy, test_accuracy = [], []\n",
    "\n",
    "# Training loop\n",
    "for epoch in tqdm(range(epochs)):\n",
    "    # Train Data\n",
    "    train_loss_val, train_correct_count = 0, 0\n",
    "    \n",
    "    for x, y in zip(X_train, y_train):\n",
    "        # Forward pass\n",
    "        y_pred = model.forward(x)\n",
    "        y_pred = y_pred[0]  # y_pred is a 1x1 array, convert it to a scalar\n",
    "        \n",
    "        # Calculate loss\n",
    "        loss = model.get_loss(y, y_pred)\n",
    "        train_loss_val += loss\n",
    "        \n",
    "        # Calculate accuracy\n",
    "        train_correct_count += int((y_pred > 0.5) == y)\n",
    "        \n",
    "        # Backward pass\n",
    "        model.backward(y)\n",
    "        \n",
    "        # Update weights\n",
    "        model.apply_gradients(learning_rate, regularization_rate, momentum)\n",
    "        \n",
    "    # Calculate average loss and accuracy\n",
    "    train_loss.append(train_loss_val / len(X_train))\n",
    "    train_accuracy.append(train_correct_count / len(X_train))\n",
    "    \n",
    "    # Test Data\n",
    "    test_loss_val, test_correct_count = 0, 0\n",
    "    \n",
    "    for x, y in zip(X_test, y_test):\n",
    "        # Forward pass\n",
    "        y_pred = model.forward(x, learn=False)\n",
    "        y_pred = y_pred[0]  # y_pred is a 1x1 array, convert it to a scalar\n",
    "        \n",
    "        # Calculate loss\n",
    "        loss = model.get_loss(y, y_pred)\n",
    "        test_loss_val += loss\n",
    "        \n",
    "        # Calculate accuracy\n",
    "        test_correct_count += int((y_pred > 0.5) == y)\n",
    "        \n",
    "    # Calculate average loss and accuracy\n",
    "    test_loss.append(test_loss_val / len(X_test))\n",
    "    test_accuracy.append(test_correct_count / len(X_test))\n",
    "    \n",
    "    # Print epoch results\n",
    "    if (epoch + 1) % 10 == 0 or epoch == 0:\n",
    "        print(f'Epoch {epoch + 1} --- Train Loss: {train_loss[-1]:.4f}, Test Loss: {test_loss[-1]:.4f}, Train Accuracy: {train_accuracy[-1]:.4f}, Test Accuracy: {test_accuracy[-1]:.4f}')"
   ],
   "id": "a371b3f98fb5ddc7",
   "outputs": [
    {
     "data": {
      "text/plain": [
       "  0%|          | 0/100 [00:00<?, ?it/s]"
      ],
      "application/vnd.jupyter.widget-view+json": {
       "version_major": 2,
       "version_minor": 0,
       "model_id": "d7e620139c014f7c8a9c990872354133"
      }
     },
     "metadata": {},
     "output_type": "display_data"
    },
    {
     "name": "stdout",
     "output_type": "stream",
     "text": [
      "Epoch 1 --- Train Loss: 12.6312, Test Loss: 12.5665, Train Accuracy: 0.4504, Test Accuracy: 0.4542\n",
      "Epoch 10 --- Train Loss: 12.6651, Test Loss: 12.5665, Train Accuracy: 0.4500, Test Accuracy: 0.4542\n",
      "Epoch 20 --- Train Loss: 12.6651, Test Loss: 12.5665, Train Accuracy: 0.4500, Test Accuracy: 0.4542\n",
      "Epoch 30 --- Train Loss: 12.6651, Test Loss: 12.5665, Train Accuracy: 0.4500, Test Accuracy: 0.4542\n",
      "Epoch 40 --- Train Loss: 12.6651, Test Loss: 12.5665, Train Accuracy: 0.4500, Test Accuracy: 0.4542\n",
      "Epoch 50 --- Train Loss: 12.6651, Test Loss: 12.5665, Train Accuracy: 0.4500, Test Accuracy: 0.4542\n",
      "Epoch 60 --- Train Loss: 12.6651, Test Loss: 12.5665, Train Accuracy: 0.4500, Test Accuracy: 0.4542\n",
      "Epoch 70 --- Train Loss: 12.6651, Test Loss: 12.5665, Train Accuracy: 0.4500, Test Accuracy: 0.4542\n",
      "Epoch 80 --- Train Loss: 12.6651, Test Loss: 12.5665, Train Accuracy: 0.4500, Test Accuracy: 0.4542\n",
      "Epoch 90 --- Train Loss: 12.6651, Test Loss: 12.5665, Train Accuracy: 0.4500, Test Accuracy: 0.4542\n",
      "Epoch 100 --- Train Loss: 12.6651, Test Loss: 12.5665, Train Accuracy: 0.4500, Test Accuracy: 0.4542\n"
     ]
    }
   ],
   "execution_count": 36
  },
  {
   "metadata": {
    "ExecuteTime": {
     "end_time": "2024-05-07T19:19:52.362126Z",
     "start_time": "2024-05-07T19:19:52.094117Z"
    }
   },
   "cell_type": "code",
   "source": [
    "# Plot the loss and accuracy\n",
    "fig, ax = plt.subplots(1, 2, figsize=(15, 5))\n",
    "\n",
    "# Loss\n",
    "ax[0].plot(train_loss, label='Train Loss')\n",
    "ax[0].plot(test_loss, label='Test Loss')\n",
    "ax[0].set_title('Loss')\n",
    "ax[0].set_xlabel('Epoch')\n",
    "ax[0].legend()\n",
    "\n",
    "# Accuracy\n",
    "ax[1].plot(train_accuracy, label='Train Accuracy')\n",
    "ax[1].plot(test_accuracy, label='Test Accuracy')\n",
    "ax[1].set_title('Accuracy')\n",
    "ax[1].set_xlabel('Epoch')\n",
    "ax[1].legend()\n",
    "\n",
    "plt.show()"
   ],
   "id": "7daf9d88d0fedecd",
   "outputs": [
    {
     "data": {
      "text/plain": [
       "<Figure size 1500x500 with 2 Axes>"
      ],
      "image/png": "[encoded data removed]"
     },
     "metadata": {},
     "output_type": "display_data"
    }
   ],
   "execution_count": 38
  },
  {
   "metadata": {},
   "cell_type": "code",
   "outputs": [],
   "execution_count": null,
   "source": "",
   "id": "acc49922c042ce6"
  }
 ],
 "metadata": {
  "kernelspec": {
   "display_name": "Python 3",
   "language": "python",
   "name": "python3"
  },
  "language_info": {
   "codemirror_mode": {
    "name": "ipython",
    "version": 2
   },
   "file_extension": ".py",
   "mimetype": "text/x-python",
   "name": "python",
   "nbconvert_exporter": "python",
   "pygments_lexer": "ipython2",
   "version": "2.7.6"
  }
 },
 "nbformat": 4,
 "nbformat_minor": 5
}
