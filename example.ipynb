{
 "cells": [
  {
   "metadata": {},
   "cell_type": "markdown",
   "source": [
    "# Iris Dataset (Multiclass Classification)\n",
    "Multiclass classification problem using the Iris dataset.  \n",
    "The Iris dataset is a classic and very easy multi-class classification dataset.  \n",
    "https://www.kaggle.com/datasets/vikrishnan/iris-dataset"
   ],
   "id": "cd04b5d71849b228"
  },
  {
   "cell_type": "code",
   "id": "initial_id",
   "metadata": {
    "collapsed": true,
    "ExecuteTime": {
     "end_time": "2024-05-07T19:36:45.300134Z",
     "start_time": "2024-05-07T19:36:45.295547Z"
    }
   },
   "source": [
    "import pandas as pd\n",
    "\n",
    "from sklearn.preprocessing import StandardScaler\n",
    "from sklearn.model_selection import train_test_split\n",
    "from sklearn.preprocessing import LabelEncoder\n",
    "\n",
    "from neural_network.functions.activation_functions import Softmax\n",
    "from neural_network.functions.loss_functions import CrossEntropyLoss\n",
    "\n",
    "from neural_network.neural_network import NeuralNetwork\n",
    "\n",
    "import matplotlib.pyplot as plt\n",
    "\n",
    "from tqdm.auto import tqdm"
   ],
   "outputs": [],
   "execution_count": 41
  },
  {
   "metadata": {},
   "cell_type": "markdown",
   "source": "## Step 1: Load the data",
   "id": "cd989b4b64e58800"
  },
  {
   "metadata": {
    "ExecuteTime": {
     "end_time": "2024-05-07T19:36:45.398697Z",
     "start_time": "2024-05-07T19:36:45.394259Z"
    }
   },
   "cell_type": "code",
   "source": [
    "# Create the dataframe and view it\n",
    "\n",
    "df = pd.read_csv('./data/iris.data.csv')"
   ],
   "id": "ecbcd3b9b1b1e9d7",
   "outputs": [],
   "execution_count": 42
  },
  {
   "metadata": {
    "ExecuteTime": {
     "end_time": "2024-05-07T19:36:45.433473Z",
     "start_time": "2024-05-07T19:36:45.425965Z"
    }
   },
   "cell_type": "code",
   "source": "df.head()",
   "id": "db722edfeb214fec",
   "outputs": [
    {
     "data": {
      "text/plain": [
       "   5.1  3.5  1.4  0.2  Iris-setosa\n",
       "0  4.9  3.0  1.4  0.2  Iris-setosa\n",
       "1  4.7  3.2  1.3  0.2  Iris-setosa\n",
       "2  4.6  3.1  1.5  0.2  Iris-setosa\n",
       "3  5.0  3.6  1.4  0.2  Iris-setosa\n",
       "4  5.4  3.9  1.7  0.4  Iris-setosa"
      ],
      "text/html": [
       "<div>\n",
       "<style scoped>\n",
       "    .dataframe tbody tr th:only-of-type {\n",
       "        vertical-align: middle;\n",
       "    }\n",
       "\n",
       "    .dataframe tbody tr th {\n",
       "        vertical-align: top;\n",
       "    }\n",
       "\n",
       "    .dataframe thead th {\n",
       "        text-align: right;\n",
       "    }\n",
       "</style>\n",
       "<table border=\"1\" class=\"dataframe\">\n",
       "  <thead>\n",
       "    <tr style=\"text-align: right;\">\n",
       "      <th></th>\n",
       "      <th>5.1</th>\n",
       "      <th>3.5</th>\n",
       "      <th>1.4</th>\n",
       "      <th>0.2</th>\n",
       "      <th>Iris-setosa</th>\n",
       "    </tr>\n",
       "  </thead>\n",
       "  <tbody>\n",
       "    <tr>\n",
       "      <th>0</th>\n",
       "      <td>4.9</td>\n",
       "      <td>3.0</td>\n",
       "      <td>1.4</td>\n",
       "      <td>0.2</td>\n",
       "      <td>Iris-setosa</td>\n",
       "    </tr>\n",
       "    <tr>\n",
       "      <th>1</th>\n",
       "      <td>4.7</td>\n",
       "      <td>3.2</td>\n",
       "      <td>1.3</td>\n",
       "      <td>0.2</td>\n",
       "      <td>Iris-setosa</td>\n",
       "    </tr>\n",
       "    <tr>\n",
       "      <th>2</th>\n",
       "      <td>4.6</td>\n",
       "      <td>3.1</td>\n",
       "      <td>1.5</td>\n",
       "      <td>0.2</td>\n",
       "      <td>Iris-setosa</td>\n",
       "    </tr>\n",
       "    <tr>\n",
       "      <th>3</th>\n",
       "      <td>5.0</td>\n",
       "      <td>3.6</td>\n",
       "      <td>1.4</td>\n",
       "      <td>0.2</td>\n",
       "      <td>Iris-setosa</td>\n",
       "    </tr>\n",
       "    <tr>\n",
       "      <th>4</th>\n",
       "      <td>5.4</td>\n",
       "      <td>3.9</td>\n",
       "      <td>1.7</td>\n",
       "      <td>0.4</td>\n",
       "      <td>Iris-setosa</td>\n",
       "    </tr>\n",
       "  </tbody>\n",
       "</table>\n",
       "</div>"
      ]
     },
     "execution_count": 43,
     "metadata": {},
     "output_type": "execute_result"
    }
   ],
   "execution_count": 43
  },
  {
   "metadata": {
    "ExecuteTime": {
     "end_time": "2024-05-07T19:36:45.441289Z",
     "start_time": "2024-05-07T19:36:45.434809Z"
    }
   },
   "cell_type": "code",
   "source": "df.info()",
   "id": "40e801d2c1c9ea49",
   "outputs": [
    {
     "name": "stdout",
     "output_type": "stream",
     "text": [
      "<class 'pandas.core.frame.DataFrame'>\n",
      "RangeIndex: 149 entries, 0 to 148\n",
      "Data columns (total 5 columns):\n",
      " #   Column       Non-Null Count  Dtype  \n",
      "---  ------       --------------  -----  \n",
      " 0   5.1          149 non-null    float64\n",
      " 1   3.5          149 non-null    float64\n",
      " 2   1.4          149 non-null    float64\n",
      " 3   0.2          149 non-null    float64\n",
      " 4   Iris-setosa  149 non-null    object \n",
      "dtypes: float64(4), object(1)\n",
      "memory usage: 5.9+ KB\n"
     ]
    }
   ],
   "execution_count": 44
  },
  {
   "metadata": {},
   "cell_type": "markdown",
   "source": "## Step 2: Preprocess the data",
   "id": "febba1b2546a65a0"
  },
  {
   "metadata": {
    "ExecuteTime": {
     "end_time": "2024-05-07T19:36:45.460176Z",
     "start_time": "2024-05-07T19:36:45.455396Z"
    }
   },
   "cell_type": "code",
   "source": [
    "# Split the data into data and target\n",
    "data = df.drop('Iris-setosa', axis=1)\n",
    "target = df['Iris-setosa']\n",
    "\n",
    "# Encode the target\n",
    "label_encoder = LabelEncoder().fit(target)\n",
    "target = label_encoder.transform(target)\n",
    "\n",
    "# One-hot encode the target\n",
    "target = pd.get_dummies(target, dtype=float)\n",
    "\n",
    "# Convert to numpy arrays\n",
    "data = data.to_numpy()\n",
    "target = target.to_numpy()"
   ],
   "id": "98c2db69d8a61bef",
   "outputs": [],
   "execution_count": 45
  },
  {
   "metadata": {
    "ExecuteTime": {
     "end_time": "2024-05-07T19:36:45.476458Z",
     "start_time": "2024-05-07T19:36:45.472451Z"
    }
   },
   "cell_type": "code",
   "source": [
    "print('Data Shape:', data.shape)\n",
    "print('Target Shape:', target.shape)\n",
    "\n",
    "print('data[0]:', data[0])\n",
    "print('target[0]:', target[0])"
   ],
   "id": "c8e50a851a1afd2f",
   "outputs": [
    {
     "name": "stdout",
     "output_type": "stream",
     "text": [
      "Data Shape: (149, 4)\n",
      "Target Shape: (149, 3)\n",
      "data[0]: [4.9 3.  1.4 0.2]\n",
      "target[0]: [1. 0. 0.]\n"
     ]
    }
   ],
   "execution_count": 46
  },
  {
   "metadata": {
    "ExecuteTime": {
     "end_time": "2024-05-07T19:36:45.483099Z",
     "start_time": "2024-05-07T19:36:45.479635Z"
    }
   },
   "cell_type": "code",
   "source": [
    "# Check for missing values\n",
    "print('Missing values in data:', pd.isnull(data).sum().sum())\n",
    "print('Missing values in target:', pd.isnull(target).sum().sum())"
   ],
   "id": "9167f5f052a74032",
   "outputs": [
    {
     "name": "stdout",
     "output_type": "stream",
     "text": [
      "Missing values in data: 0\n",
      "Missing values in target: 0\n"
     ]
    }
   ],
   "execution_count": 47
  },
  {
   "metadata": {
    "ExecuteTime": {
     "end_time": "2024-05-07T19:36:45.497222Z",
     "start_time": "2024-05-07T19:36:45.492264Z"
    }
   },
   "cell_type": "code",
   "source": [
    "# Standardize the data\n",
    "scaler = StandardScaler().fit(data)\n",
    "data = scaler.transform(data)\n",
    "\n",
    "print('data[0]:', data[0])"
   ],
   "id": "b1d7e6d7dee73453",
   "outputs": [
    {
     "name": "stdout",
     "output_type": "stream",
     "text": [
      "data[0]: [-1.1483555  -0.11805969 -1.35396443 -1.32506301]\n"
     ]
    }
   ],
   "execution_count": 48
  },
  {
   "metadata": {
    "ExecuteTime": {
     "end_time": "2024-05-07T19:36:45.534830Z",
     "start_time": "2024-05-07T19:36:45.530549Z"
    }
   },
   "cell_type": "code",
   "source": [
    "# Split the data into training and testing sets\n",
    "X_train, X_test = train_test_split(data, test_size=0.2, random_state=42)\n",
    "y_train, y_test = train_test_split(target, test_size=0.2, random_state=42)"
   ],
   "id": "892a6f8c7341db8e",
   "outputs": [],
   "execution_count": 49
  },
  {
   "metadata": {},
   "cell_type": "markdown",
   "source": [
    "## Step 3: Create the Model\n",
    "The model will output an array of probabilities for each class."
   ],
   "id": "cad069c65a23c012"
  },
  {
   "metadata": {
    "ExecuteTime": {
     "end_time": "2024-05-07T19:36:45.587470Z",
     "start_time": "2024-05-07T19:36:45.583499Z"
    }
   },
   "cell_type": "code",
   "source": [
    "# Choose model hyperparameters\n",
    "layer_sizes = [data.shape[1], target.shape[1]]\n",
    "activations = [Softmax()]  # Softmax for multiclass classification\n",
    "loss_function = CrossEntropyLoss()  # Cross-entropy loss for multiclass classification\n",
    "\n",
    "# Create the model\n",
    "model = NeuralNetwork(layer_sizes, activations, loss_function)"
   ],
   "id": "9600dc2b09b9bfb5",
   "outputs": [],
   "execution_count": 50
  },
  {
   "metadata": {},
   "cell_type": "markdown",
   "source": "## Step 4: Train the Model",
   "id": "a47793b8cdaeb282"
  },
  {
   "metadata": {
    "ExecuteTime": {
     "end_time": "2024-05-07T19:36:45.663083Z",
     "start_time": "2024-05-07T19:36:45.660402Z"
    }
   },
   "cell_type": "code",
   "source": [
    "# Choose training hyperparameters\n",
    "learning_rate = 0.01\n",
    "regularization_rate = 0.01\n",
    "momentum = 0.9\n",
    "epochs = 100"
   ],
   "id": "f15f9f9393523f6c",
   "outputs": [],
   "execution_count": 51
  },
  {
   "metadata": {
    "ExecuteTime": {
     "end_time": "2024-05-07T19:36:46.850001Z",
     "start_time": "2024-05-07T19:36:45.677380Z"
    }
   },
   "cell_type": "code",
   "source": [
    "# Store loss and accuracy for visualization\n",
    "train_loss, test_loss = [], []\n",
    "train_accuracy, test_accuracy = [], []\n",
    "\n",
    "# Training loop\n",
    "for epoch in tqdm(range(epochs)):\n",
    "    # Train Data\n",
    "    train_loss_val, train_correct_count = 0, 0\n",
    "\n",
    "    for x, y in zip(X_train, y_train):\n",
    "        # Forward pass\n",
    "        y_pred = model.forward(x)\n",
    "\n",
    "        # Calculate loss\n",
    "        loss = model.get_loss(y, y_pred)\n",
    "        train_loss_val += loss\n",
    "\n",
    "        # Calculate accuracy\n",
    "        train_correct_count += int(y.argmax() == y_pred.argmax())\n",
    "\n",
    "        # Backward pass\n",
    "        model.backward(y)\n",
    "\n",
    "        # Update weights\n",
    "        model.apply_gradients(learning_rate, regularization_rate, momentum)\n",
    "\n",
    "    # Calculate average loss and accuracy\n",
    "    train_loss.append(train_loss_val / len(X_train))\n",
    "    train_accuracy.append(train_correct_count / len(X_train))\n",
    "\n",
    "    # Test Data\n",
    "    test_loss_val, test_correct_count = 0, 0\n",
    "\n",
    "    for x, y in zip(X_test, y_test):\n",
    "        # Forward pass\n",
    "        y_pred = model.forward(x, learn=False)\n",
    "\n",
    "        # Calculate loss\n",
    "        loss = model.get_loss(y, y_pred)\n",
    "        test_loss_val += loss\n",
    "\n",
    "        # Calculate accuracy\n",
    "        test_correct_count += int(y.argmax() == y_pred.argmax())\n",
    "\n",
    "    # Calculate average loss and accuracy\n",
    "    test_loss.append(test_loss_val / len(X_test))\n",
    "    test_accuracy.append(test_correct_count / len(X_test))\n",
    "\n",
    "    # Print epoch results\n",
    "    if (epoch + 1) % 10 == 0 or epoch == 0:\n",
    "        print(f'Epoch {epoch + 1} --- Train Loss: {train_loss[-1]:.4f}, Test Loss: {test_loss[-1]:.4f}, Train Accuracy: {train_accuracy[-1]:.4f}, Test Accuracy: {test_accuracy[-1]:.4f}')"
   ],
   "id": "e8fdf255dfc468c",
   "outputs": [
    {
     "data": {
      "text/plain": [
       "  0%|          | 0/100 [00:00<?, ?it/s]"
      ],
      "application/vnd.jupyter.widget-view+json": {
       "version_major": 2,
       "version_minor": 0,
       "model_id": "c618db734d07409aae57a33c4f0b416b"
      }
     },
     "metadata": {},
     "output_type": "display_data"
    },
    {
     "name": "stdout",
     "output_type": "stream",
     "text": [
      "Epoch 1 --- Train Loss: 0.6946, Test Loss: 0.6343, Train Accuracy: 0.8403, Test Accuracy: 0.9000\n",
      "Epoch 10 --- Train Loss: 0.1935, Test Loss: 1.8794, Train Accuracy: 0.9916, Test Accuracy: 0.9000\n",
      "Epoch 20 --- Train Loss: 0.8875, Test Loss: 3.0701, Train Accuracy: 0.9496, Test Accuracy: 0.8667\n",
      "Epoch 30 --- Train Loss: 0.5789, Test Loss: 2.3026, Train Accuracy: 0.9748, Test Accuracy: 0.9000\n",
      "Epoch 40 --- Train Loss: 0.7740, Test Loss: 2.3026, Train Accuracy: 0.9664, Test Accuracy: 0.9000\n",
      "Epoch 50 --- Train Loss: 0.7740, Test Loss: 1.5351, Train Accuracy: 0.9664, Test Accuracy: 0.9333\n",
      "Epoch 60 --- Train Loss: 0.7740, Test Loss: 0.8442, Train Accuracy: 0.9664, Test Accuracy: 0.9333\n",
      "Epoch 70 --- Train Loss: 0.7740, Test Loss: 1.5351, Train Accuracy: 0.9664, Test Accuracy: 0.9333\n",
      "Epoch 80 --- Train Loss: 0.9675, Test Loss: 1.5351, Train Accuracy: 0.9580, Test Accuracy: 0.9333\n",
      "Epoch 90 --- Train Loss: 1.1610, Test Loss: 0.7675, Train Accuracy: 0.9496, Test Accuracy: 0.9667\n",
      "Epoch 100 --- Train Loss: 1.3545, Test Loss: 0.7675, Train Accuracy: 0.9412, Test Accuracy: 0.9667\n"
     ]
    }
   ],
   "execution_count": 52
  },
  {
   "metadata": {
    "ExecuteTime": {
     "end_time": "2024-05-07T19:36:47.084585Z",
     "start_time": "2024-05-07T19:36:46.851011Z"
    }
   },
   "cell_type": "code",
   "source": [
    "# Plot the loss and accuracy\n",
    "fig, ax = plt.subplots(1, 2, figsize=(15, 5))\n",
    "\n",
    "# Loss\n",
    "ax[0].plot(train_loss, label='Train Loss')\n",
    "ax[0].plot(test_loss, label='Test Loss')\n",
    "ax[0].set_title('Loss')\n",
    "ax[0].set_xlabel('Epoch')\n",
    "ax[0].legend()\n",
    "\n",
    "# Accuracy\n",
    "ax[1].plot(train_accuracy, label='Train Accuracy')\n",
    "ax[1].plot(test_accuracy, label='Test Accuracy')\n",
    "ax[1].set_title('Accuracy')\n",
    "ax[1].set_xlabel('Epoch')\n",
    "ax[1].legend()\n",
    "\n",
    "plt.show()"
   ],
   "id": "94110dd561c39dc2",
   "outputs": [
    {
     "data": {
      "text/plain": [
       "<Figure size 1500x500 with 2 Axes>"
      ],
      "image/png": "[encoded data removed]"
     },
     "metadata": {},
     "output_type": "display_data"
    }
   ],
   "execution_count": 53
  },
  {
   "metadata": {
    "ExecuteTime": {
     "end_time": "2024-05-07T19:36:47.088079Z",
     "start_time": "2024-05-07T19:36:47.085596Z"
    }
   },
   "cell_type": "code",
   "source": "",
   "id": "27f2465410b286f8",
   "outputs": [],
   "execution_count": 53
  }
 ],
 "metadata": {
  "kernelspec": {
   "display_name": "Python 3",
   "language": "python",
   "name": "python3"
  },
  "language_info": {
   "codemirror_mode": {
    "name": "ipython",
    "version": 2
   },
   "file_extension": ".py",
   "mimetype": "text/x-python",
   "name": "python",
   "nbconvert_exporter": "python",
   "pygments_lexer": "ipython2",
   "version": "2.7.6"
  }
 },
 "nbformat": 4,
 "nbformat_minor": 5
}
