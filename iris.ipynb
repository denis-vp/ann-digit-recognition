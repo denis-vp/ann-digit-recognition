{
 "cells": [
  {
   "metadata": {},
   "cell_type": "markdown",
   "source": "# Load the data set",
   "id": "123711a20958e43b"
  },
  {
   "cell_type": "code",
   "id": "initial_id",
   "metadata": {
    "collapsed": true,
    "ExecuteTime": {
     "end_time": "2024-05-06T18:52:37.868625Z",
     "start_time": "2024-05-06T18:52:37.366030Z"
    }
   },
   "source": [
    "from sklearn.datasets import load_iris\n",
    "\n",
    "iris = load_iris()\n",
    "data, target = iris.data, iris.target"
   ],
   "outputs": [],
   "execution_count": 1
  },
  {
   "metadata": {},
   "cell_type": "markdown",
   "source": "# Split the data set",
   "id": "6e5012bfd8930561"
  },
  {
   "metadata": {
    "ExecuteTime": {
     "end_time": "2024-05-06T18:52:37.902165Z",
     "start_time": "2024-05-06T18:52:37.869935Z"
    }
   },
   "cell_type": "code",
   "source": [
    "from sklearn.model_selection import train_test_split\n",
    "\n",
    "X_train, X_test = train_test_split(data, test_size=0.2, random_state=42)\n",
    "y_train, y_test = train_test_split(target, test_size=0.2, random_state=42)"
   ],
   "id": "84da7939525f46c1",
   "outputs": [],
   "execution_count": 2
  },
  {
   "metadata": {},
   "cell_type": "markdown",
   "source": "# Standardize the data",
   "id": "54c18ead0ce11140"
  },
  {
   "metadata": {
    "ExecuteTime": {
     "end_time": "2024-05-06T18:52:37.906695Z",
     "start_time": "2024-05-06T18:52:37.902165Z"
    }
   },
   "cell_type": "code",
   "source": [
    "from sklearn.preprocessing import StandardScaler\n",
    "\n",
    "scaler = StandardScaler().fit(X_train)\n",
    "X_train = scaler.transform(X_train)\n",
    "X_test = scaler.transform(X_test)"
   ],
   "id": "d357b36f987f1570",
   "outputs": [],
   "execution_count": 3
  },
  {
   "metadata": {},
   "cell_type": "markdown",
   "source": "# Modify target data to represent probabilities",
   "id": "f36d9b3273034474"
  },
  {
   "metadata": {
    "ExecuteTime": {
     "end_time": "2024-05-06T18:52:37.911573Z",
     "start_time": "2024-05-06T18:52:37.907735Z"
    }
   },
   "cell_type": "code",
   "source": [
    "import numpy as np\n",
    "\n",
    "def make_probability(num_labels, label):\n",
    "    return [1 if i == label else 0 for i in range(num_labels)]\n",
    "\n",
    "num_labels = 3\n",
    "y_train = [make_probability(num_labels, label) for label in y_train]\n",
    "y_test = [make_probability(num_labels, label) for label in y_test]\n",
    "\n",
    "y_train = np.array(y_train)\n",
    "y_test = np.array(y_test)"
   ],
   "id": "c6452a2b5a756d3",
   "outputs": [],
   "execution_count": 4
  },
  {
   "metadata": {},
   "cell_type": "markdown",
   "source": "# Initialize the model",
   "id": "a1db82e4a2cdba75"
  },
  {
   "metadata": {
    "ExecuteTime": {
     "end_time": "2024-05-06T18:52:37.923602Z",
     "start_time": "2024-05-06T18:52:37.913089Z"
    }
   },
   "cell_type": "code",
   "source": [
    "from neural_network.functions.loss_functions import CrossEntropy\n",
    "from neural_network.functions.activation_functions import ReLU, Softmax\n",
    "from neural_network.neural_network import NeuralNetwork\n",
    "\n",
    "hidden_layer_sizes = [4, 3]\n",
    "hidden_layer_activations = [Softmax()]\n",
    "loss_function = CrossEntropy()\n",
    "\n",
    "model = NeuralNetwork(hidden_layer_sizes, hidden_layer_activations, loss_function)\n",
    "\n",
    "learning_rate = 0.01\n",
    "regularization_rate = 0.01\n",
    "momentum = 0.9"
   ],
   "id": "1bf138331f063a89",
   "outputs": [],
   "execution_count": 5
  },
  {
   "metadata": {},
   "cell_type": "markdown",
   "source": "# Train the model   ",
   "id": "3a61aec6de1171ff"
  },
  {
   "metadata": {
    "ExecuteTime": {
     "end_time": "2024-05-06T18:52:37.927129Z",
     "start_time": "2024-05-06T18:52:37.923602Z"
    }
   },
   "cell_type": "code",
   "source": [
    "def predict(y_pred):\n",
    "    return np.argmax(y_pred)"
   ],
   "id": "a0d6611225465cff",
   "outputs": [],
   "execution_count": 6
  },
  {
   "metadata": {
    "ExecuteTime": {
     "end_time": "2024-05-06T18:52:48.709947Z",
     "start_time": "2024-05-06T18:52:47.606431Z"
    }
   },
   "cell_type": "code",
   "source": [
    "import matplotlib.pyplot as plt\n",
    "from tqdm.auto import tqdm\n",
    "\n",
    "model.reset()\n",
    "\n",
    "loss_values = []\n",
    "accuracy_values = []\n",
    "\n",
    "num_epochs = 100\n",
    "for epoch in tqdm(range(num_epochs)):\n",
    "    total_loss = 0\n",
    "    total_accuracy = 0\n",
    "\n",
    "    for x, y in zip(X_train, y_train):\n",
    "        y_pred = model.forward(x)\n",
    "\n",
    "        loss = model.get_loss(y, y_pred)\n",
    "        total_loss += loss\n",
    "\n",
    "        model.backward(y)\n",
    "        model.apply_gradients(learning_rate, regularization_rate, momentum)\n",
    "\n",
    "        choice = predict(y_pred)\n",
    "        total_accuracy += 1 if choice == np.argmax(y) else 0\n",
    "\n",
    "    total_loss /= len(y_train)\n",
    "    loss_values.append(total_loss)\n",
    "    total_accuracy /= len(y_train)\n",
    "    accuracy_values.append(total_accuracy)\n",
    "\n",
    "    if (epoch + 1) % 10 == 0:\n",
    "        print(f\"Epoch {epoch + 1}/{num_epochs} - Loss: {total_loss:.4f} - Accuracy: {total_accuracy:.4f}\")\n",
    "\n",
    "\n",
    "fig, ax = plt.subplots(1, 2, figsize=(10, 5))\n",
    "\n",
    "ax[0].plot(loss_values)\n",
    "ax[0].set_xlabel(\"Epoch\")\n",
    "ax[0].set_ylabel(\"Loss\")\n",
    "\n",
    "ax[1].plot(accuracy_values)\n",
    "ax[1].set_xlabel(\"Epoch\")\n",
    "ax[1].set_ylabel(\"Accuracy\")\n",
    "\n",
    "plt.tight_layout()\n",
    "plt.show()"
   ],
   "id": "79df89ba1c772ab3",
   "outputs": [
    {
     "data": {
      "text/plain": [
       "  0%|          | 0/100 [00:00<?, ?it/s]"
      ],
      "application/vnd.jupyter.widget-view+json": {
       "version_major": 2,
       "version_minor": 0,
       "model_id": "ffeaf82a0076433ca14baf9239e14923"
      }
     },
     "metadata": {},
     "output_type": "display_data"
    },
    {
     "name": "stdout",
     "output_type": "stream",
     "text": [
      "Epoch 10/100 - Loss: 3.2326 - Accuracy: 0.8500\n",
      "Epoch 20/100 - Loss: 3.1182 - Accuracy: 0.8583\n",
      "Epoch 30/100 - Loss: 2.8782 - Accuracy: 0.8750\n",
      "Epoch 40/100 - Loss: 2.9433 - Accuracy: 0.8667\n",
      "Epoch 50/100 - Loss: 2.8782 - Accuracy: 0.8750\n",
      "Epoch 60/100 - Loss: 2.8782 - Accuracy: 0.8750\n",
      "Epoch 70/100 - Loss: 2.8782 - Accuracy: 0.8750\n",
      "Epoch 80/100 - Loss: 2.8782 - Accuracy: 0.8750\n",
      "Epoch 90/100 - Loss: 2.8782 - Accuracy: 0.8750\n",
      "Epoch 100/100 - Loss: 2.9285 - Accuracy: 0.8667\n"
     ]
    },
    {
     "data": {
      "text/plain": [
       "<Figure size 1000x500 with 2 Axes>"
      ],
      "image/png": "[encoded data removed]"
     },
     "metadata": {},
     "output_type": "display_data"
    }
   ],
   "execution_count": 9
  },
  {
   "metadata": {
    "ExecuteTime": {
     "end_time": "2024-05-06T18:52:39.318572Z",
     "start_time": "2024-05-06T18:52:39.315375Z"
    }
   },
   "cell_type": "code",
   "source": "",
   "id": "50af40ac3a43ddf2",
   "outputs": [],
   "execution_count": 7
  }
 ],
 "metadata": {
  "kernelspec": {
   "display_name": "Python 3",
   "language": "python",
   "name": "python3"
  },
  "language_info": {
   "codemirror_mode": {
    "name": "ipython",
    "version": 2
   },
   "file_extension": ".py",
   "mimetype": "text/x-python",
   "name": "python",
   "nbconvert_exporter": "python",
   "pygments_lexer": "ipython2",
   "version": "2.7.6"
  }
 },
 "nbformat": 4,
 "nbformat_minor": 5
}
