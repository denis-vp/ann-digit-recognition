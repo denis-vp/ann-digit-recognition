{
 "cells": [
  {
   "metadata": {},
   "cell_type": "markdown",
   "source": "# Load the data set",
   "id": "123711a20958e43b"
  },
  {
   "cell_type": "code",
   "id": "initial_id",
   "metadata": {
    "collapsed": true,
    "ExecuteTime": {
     "end_time": "2024-05-06T16:05:25.245863Z",
     "start_time": "2024-05-06T16:05:24.746083Z"
    }
   },
   "source": [
    "from sklearn.datasets import load_iris\n",
    "\n",
    "iris = load_iris()\n",
    "data, target = iris.data, iris.target"
   ],
   "outputs": [],
   "execution_count": 1
  },
  {
   "metadata": {},
   "cell_type": "markdown",
   "source": "# Split the data set",
   "id": "6e5012bfd8930561"
  },
  {
   "metadata": {
    "ExecuteTime": {
     "end_time": "2024-05-06T16:05:26.513590Z",
     "start_time": "2024-05-06T16:05:26.477646Z"
    }
   },
   "cell_type": "code",
   "source": [
    "from sklearn.model_selection import train_test_split\n",
    "\n",
    "X_train, X_test = train_test_split(data, test_size=0.2, random_state=42)\n",
    "y_train, y_test = train_test_split(target, test_size=0.2, random_state=42)"
   ],
   "id": "84da7939525f46c1",
   "outputs": [],
   "execution_count": 2
  },
  {
   "metadata": {},
   "cell_type": "markdown",
   "source": "# Standardize the data",
   "id": "54c18ead0ce11140"
  },
  {
   "metadata": {
    "ExecuteTime": {
     "end_time": "2024-05-06T16:05:27.192243Z",
     "start_time": "2024-05-06T16:05:27.187311Z"
    }
   },
   "cell_type": "code",
   "source": [
    "from sklearn.preprocessing import StandardScaler\n",
    "\n",
    "scaler = StandardScaler().fit(X_train)\n",
    "X_train = scaler.transform(X_train)\n",
    "X_test = scaler.transform(X_test)"
   ],
   "id": "d357b36f987f1570",
   "outputs": [],
   "execution_count": 3
  },
  {
   "metadata": {},
   "cell_type": "markdown",
   "source": "# Modify target data to represent probabilities",
   "id": "f36d9b3273034474"
  },
  {
   "metadata": {
    "ExecuteTime": {
     "end_time": "2024-05-06T16:05:27.931477Z",
     "start_time": "2024-05-06T16:05:27.927554Z"
    }
   },
   "cell_type": "code",
   "source": [
    "import numpy as np\n",
    "\n",
    "def make_probability(num_labels, label):\n",
    "    return [1 if i == label else 0 for i in range(num_labels)]\n",
    "\n",
    "num_labels = 3\n",
    "y_train = [make_probability(num_labels, label) for label in y_train]\n",
    "y_test = [make_probability(num_labels, label) for label in y_test]\n",
    "\n",
    "y_train = np.array(y_train)\n",
    "y_test = np.array(y_test)"
   ],
   "id": "c6452a2b5a756d3",
   "outputs": [],
   "execution_count": 4
  },
  {
   "metadata": {},
   "cell_type": "markdown",
   "source": "# Convert the data to numpy arrays",
   "id": "3e2eb53b6731107a"
  },
  {
   "metadata": {
    "ExecuteTime": {
     "end_time": "2024-05-06T16:05:28.777851Z",
     "start_time": "2024-05-06T16:05:28.774915Z"
    }
   },
   "cell_type": "code",
   "source": [
    "# X_train = np.array(X_train)\n",
    "# X_train = X_train.reshape(X_train.shape[0], -1)\n",
    "# X_test = np.array(X_test)\n",
    "# X_test = X_test.reshape(X_test.shape[0], -1)"
   ],
   "id": "b22dcad6696b8a61",
   "outputs": [],
   "execution_count": 5
  },
  {
   "metadata": {},
   "cell_type": "markdown",
   "source": "# Initialize the model",
   "id": "a1db82e4a2cdba75"
  },
  {
   "metadata": {
    "ExecuteTime": {
     "end_time": "2024-05-06T16:05:29.463223Z",
     "start_time": "2024-05-06T16:05:29.450128Z"
    }
   },
   "cell_type": "code",
   "source": [
    "from neural_network.functions.loss_functions import CrossEntropy\n",
    "from neural_network.functions.activation_functions import ReLU, Softmax\n",
    "from neural_network.neural_network import NeuralNetwork\n",
    "\n",
    "hidden_layer_sizes = [10, 10, 3]\n",
    "hidden_layer_activations = [ReLU(), ReLU(), Softmax()]\n",
    "loss_function = CrossEntropy()\n",
    "\n",
    "model = NeuralNetwork(4, hidden_layer_sizes, hidden_layer_activations, loss_function)"
   ],
   "id": "1bf138331f063a89",
   "outputs": [],
   "execution_count": 6
  },
  {
   "metadata": {},
   "cell_type": "markdown",
   "source": "# Train the model   ",
   "id": "3a61aec6de1171ff"
  },
  {
   "metadata": {
    "ExecuteTime": {
     "end_time": "2024-05-06T16:05:30.330745Z",
     "start_time": "2024-05-06T16:05:30.326523Z"
    }
   },
   "cell_type": "code",
   "source": [
    "def predict(y_pred):\n",
    "    return np.argmax(y_pred)"
   ],
   "id": "a0d6611225465cff",
   "outputs": [],
   "execution_count": 7
  },
  {
   "metadata": {
    "ExecuteTime": {
     "end_time": "2024-05-06T16:05:31.603634Z",
     "start_time": "2024-05-06T16:05:30.810239Z"
    }
   },
   "cell_type": "code",
   "source": [
    "import matplotlib.pyplot as plt\n",
    "from tqdm.auto import tqdm\n",
    "\n",
    "learning_rate = 0.01\n",
    "regularization_rate = 0.01\n",
    "momentum = 0.9\n",
    "\n",
    "loss_values = []\n",
    "accuracy_values = []\n",
    "\n",
    "num_epochs = 100\n",
    "for epoch in tqdm(range(num_epochs)):\n",
    "    total_loss = 0\n",
    "    total_accuracy = 0\n",
    "    \n",
    "    for x, y in zip(X_train, y_train):\n",
    "        y_pred = model.forward(x)\n",
    "        \n",
    "        total_loss += model.get_loss(y, y_pred)\n",
    "        loss_values.append(total_loss)\n",
    "        \n",
    "        model.backward(y, y_pred)\n",
    "        model.apply_gradients(learning_rate, regularization_rate, momentum)\n",
    "        \n",
    "        choice = predict(y_pred)\n",
    "        total_accuracy += 1 if choice == np.argmax(y) else 0\n",
    "    \n",
    "    total_accuracy /= len(y_train)\n",
    "    accuracy_values.append(total_accuracy)\n",
    "    \n",
    "    print(f\"Epoch {epoch + 1}/{num_epochs} - Loss: {total_loss}, Accuracy: {total_accuracy}\")\n",
    "\n",
    "plt.plot(loss_values)\n",
    "plt.title(\"Loss\")\n",
    "plt.show()\n",
    "\n",
    "plt.plot(accuracy_values)\n",
    "plt.title(\"Accuracy\")\n",
    "plt.show()"
   ],
   "id": "79df89ba1c772ab3",
   "outputs": [
    {
     "data": {
      "text/plain": [
       "  0%|          | 0/100 [00:00<?, ?it/s]"
      ],
      "application/vnd.jupyter.widget-view+json": {
       "version_major": 2,
       "version_minor": 0,
       "model_id": "d67d5eeec2334452a0567be151aeebc6"
      }
     },
     "metadata": {},
     "output_type": "display_data"
    },
    {
     "ename": "ValueError",
     "evalue": "non-broadcastable output operand with shape (10,) doesn't match the broadcast shape (10,10)",
     "output_type": "error",
     "traceback": [
      "\u001B[1;31m---------------------------------------------------------------------------\u001B[0m",
      "\u001B[1;31mValueError\u001B[0m                                Traceback (most recent call last)",
      "Cell \u001B[1;32mIn[8], line 17\u001B[0m\n\u001B[0;32m     14\u001B[0m total_accuracy \u001B[38;5;241m=\u001B[39m \u001B[38;5;241m0\u001B[39m\n\u001B[0;32m     16\u001B[0m \u001B[38;5;28;01mfor\u001B[39;00m x, y \u001B[38;5;129;01min\u001B[39;00m \u001B[38;5;28mzip\u001B[39m(X_train, y_train):\n\u001B[1;32m---> 17\u001B[0m     y_pred \u001B[38;5;241m=\u001B[39m \u001B[43mmodel\u001B[49m\u001B[38;5;241;43m.\u001B[39;49m\u001B[43mforward\u001B[49m\u001B[43m(\u001B[49m\u001B[43mx\u001B[49m\u001B[43m)\u001B[49m\n\u001B[0;32m     19\u001B[0m     total_loss \u001B[38;5;241m+\u001B[39m\u001B[38;5;241m=\u001B[39m model\u001B[38;5;241m.\u001B[39mget_loss(y, y_pred)\n\u001B[0;32m     20\u001B[0m     loss_values\u001B[38;5;241m.\u001B[39mappend(total_loss)\n",
      "File \u001B[1;32m~\\Documents\\repos-github\\ann-digit-recognition\\neural_network\\neural_network.py:43\u001B[0m, in \u001B[0;36mNeuralNetwork.forward\u001B[1;34m(self, inputs, learn)\u001B[0m\n\u001B[0;32m     41\u001B[0m \u001B[38;5;28;01mfor\u001B[39;00m i, layer \u001B[38;5;129;01min\u001B[39;00m \u001B[38;5;28menumerate\u001B[39m(\u001B[38;5;28mself\u001B[39m\u001B[38;5;241m.\u001B[39mlayers):\n\u001B[0;32m     42\u001B[0m     \u001B[38;5;28;01mif\u001B[39;00m learn:\n\u001B[1;32m---> 43\u001B[0m         outputs \u001B[38;5;241m=\u001B[39m \u001B[43mlayer\u001B[49m\u001B[38;5;241;43m.\u001B[39;49m\u001B[43mforward_learn\u001B[49m\u001B[43m(\u001B[49m\u001B[43moutputs\u001B[49m\u001B[43m,\u001B[49m\u001B[43m \u001B[49m\u001B[38;5;28;43mself\u001B[39;49m\u001B[38;5;241;43m.\u001B[39;49m\u001B[43mlearn_data\u001B[49m\u001B[43m[\u001B[49m\u001B[43mi\u001B[49m\u001B[43m]\u001B[49m\u001B[43m)\u001B[49m\n\u001B[0;32m     44\u001B[0m     \u001B[38;5;28;01melse\u001B[39;00m:\n\u001B[0;32m     45\u001B[0m         outputs \u001B[38;5;241m=\u001B[39m layer\u001B[38;5;241m.\u001B[39mforward(outputs)\n",
      "File \u001B[1;32m~\\Documents\\repos-github\\ann-digit-recognition\\neural_network\\layer\\layer.py:85\u001B[0m, in \u001B[0;36mLayer.forward_learn\u001B[1;34m(self, inputs, learn_data)\u001B[0m\n\u001B[0;32m     83\u001B[0m outputs \u001B[38;5;241m=\u001B[39m np\u001B[38;5;241m.\u001B[39mdot(\u001B[38;5;28mself\u001B[39m\u001B[38;5;241m.\u001B[39mweights, inputs)\n\u001B[0;32m     84\u001B[0m \u001B[38;5;66;03m# Add the biases\u001B[39;00m\n\u001B[1;32m---> 85\u001B[0m \u001B[43moutputs\u001B[49m\u001B[43m \u001B[49m\u001B[38;5;241;43m+\u001B[39;49m\u001B[38;5;241;43m=\u001B[39;49m\u001B[43m \u001B[49m\u001B[38;5;28;43mself\u001B[39;49m\u001B[38;5;241;43m.\u001B[39;49m\u001B[43mbiases\u001B[49m\n\u001B[0;32m     86\u001B[0m learn_data\u001B[38;5;241m.\u001B[39mweighted_inputs \u001B[38;5;241m=\u001B[39m outputs\u001B[38;5;241m.\u001B[39mcopy()\n\u001B[0;32m     88\u001B[0m \u001B[38;5;66;03m# Apply the activation function\u001B[39;00m\n",
      "\u001B[1;31mValueError\u001B[0m: non-broadcastable output operand with shape (10,) doesn't match the broadcast shape (10,10)"
     ]
    }
   ],
   "execution_count": 8
  },
  {
   "metadata": {},
   "cell_type": "code",
   "source": "",
   "id": "50af40ac3a43ddf2",
   "outputs": [],
   "execution_count": null
  }
 ],
 "metadata": {
  "kernelspec": {
   "display_name": "Python 3",
   "language": "python",
   "name": "python3"
  },
  "language_info": {
   "codemirror_mode": {
    "name": "ipython",
    "version": 2
   },
   "file_extension": ".py",
   "mimetype": "text/x-python",
   "name": "python",
   "nbconvert_exporter": "python",
   "pygments_lexer": "ipython2",
   "version": "2.7.6"
  }
 },
 "nbformat": 4,
 "nbformat_minor": 5
}
